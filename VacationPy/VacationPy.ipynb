{
 "cells": [
  {
   "cell_type": "markdown",
   "metadata": {},
   "source": [
    "# VacationPy"
   ]
  },
  {
   "cell_type": "code",
   "execution_count": 1,
   "metadata": {},
   "outputs": [],
   "source": [
    "# import dependencies\n",
    "import gmaps\n",
    "import pandas as pd\n",
    "import requests\n",
    "import json \n",
    "\n",
    "# import google api key\n",
    "from config import google_api_key\n",
    "\n",
    "# access maps with unique api key\n",
    "gmaps.configure(api_key = google_api_key)"
   ]
  },
  {
   "cell_type": "code",
   "execution_count": 2,
   "metadata": {},
   "outputs": [
    {
     "data": {
      "text/html": [
       "<div>\n",
       "<style scoped>\n",
       "    .dataframe tbody tr th:only-of-type {\n",
       "        vertical-align: middle;\n",
       "    }\n",
       "\n",
       "    .dataframe tbody tr th {\n",
       "        vertical-align: top;\n",
       "    }\n",
       "\n",
       "    .dataframe thead th {\n",
       "        text-align: right;\n",
       "    }\n",
       "</style>\n",
       "<table border=\"1\" class=\"dataframe\">\n",
       "  <thead>\n",
       "    <tr style=\"text-align: right;\">\n",
       "      <th></th>\n",
       "      <th>City</th>\n",
       "      <th>Country</th>\n",
       "      <th>Date</th>\n",
       "      <th>Latitude</th>\n",
       "      <th>Longitude</th>\n",
       "      <th>Max Temp</th>\n",
       "      <th>Humidity</th>\n",
       "      <th>Wind Speed</th>\n",
       "      <th>Cloudiness</th>\n",
       "    </tr>\n",
       "  </thead>\n",
       "  <tbody>\n",
       "    <tr>\n",
       "      <th>0</th>\n",
       "      <td>Punta Arenas</td>\n",
       "      <td>CL</td>\n",
       "      <td>1579928831</td>\n",
       "      <td>-53.15</td>\n",
       "      <td>-70.92</td>\n",
       "      <td>48.20</td>\n",
       "      <td>87</td>\n",
       "      <td>12.75</td>\n",
       "      <td>20</td>\n",
       "    </tr>\n",
       "    <tr>\n",
       "      <th>1</th>\n",
       "      <td>Cloquet</td>\n",
       "      <td>US</td>\n",
       "      <td>1579928831</td>\n",
       "      <td>46.72</td>\n",
       "      <td>-92.46</td>\n",
       "      <td>32.00</td>\n",
       "      <td>79</td>\n",
       "      <td>10.29</td>\n",
       "      <td>100</td>\n",
       "    </tr>\n",
       "    <tr>\n",
       "      <th>2</th>\n",
       "      <td>Traverse City</td>\n",
       "      <td>US</td>\n",
       "      <td>1579928831</td>\n",
       "      <td>44.76</td>\n",
       "      <td>-85.62</td>\n",
       "      <td>34.00</td>\n",
       "      <td>86</td>\n",
       "      <td>4.70</td>\n",
       "      <td>90</td>\n",
       "    </tr>\n",
       "    <tr>\n",
       "      <th>3</th>\n",
       "      <td>Hofn</td>\n",
       "      <td>IS</td>\n",
       "      <td>1579928635</td>\n",
       "      <td>64.25</td>\n",
       "      <td>-15.21</td>\n",
       "      <td>35.42</td>\n",
       "      <td>97</td>\n",
       "      <td>52.61</td>\n",
       "      <td>100</td>\n",
       "    </tr>\n",
       "    <tr>\n",
       "      <th>4</th>\n",
       "      <td>Cairns</td>\n",
       "      <td>AU</td>\n",
       "      <td>1579928635</td>\n",
       "      <td>-16.92</td>\n",
       "      <td>145.77</td>\n",
       "      <td>89.01</td>\n",
       "      <td>74</td>\n",
       "      <td>3.36</td>\n",
       "      <td>61</td>\n",
       "    </tr>\n",
       "  </tbody>\n",
       "</table>\n",
       "</div>"
      ],
      "text/plain": [
       "            City Country        Date  Latitude  Longitude  Max Temp  Humidity  \\\n",
       "0   Punta Arenas      CL  1579928831    -53.15     -70.92     48.20        87   \n",
       "1        Cloquet      US  1579928831     46.72     -92.46     32.00        79   \n",
       "2  Traverse City      US  1579928831     44.76     -85.62     34.00        86   \n",
       "3           Hofn      IS  1579928635     64.25     -15.21     35.42        97   \n",
       "4         Cairns      AU  1579928635    -16.92     145.77     89.01        74   \n",
       "\n",
       "   Wind Speed  Cloudiness  \n",
       "0       12.75          20  \n",
       "1       10.29         100  \n",
       "2        4.70          90  \n",
       "3       52.61         100  \n",
       "4        3.36          61  "
      ]
     },
     "execution_count": 2,
     "metadata": {},
     "output_type": "execute_result"
    }
   ],
   "source": [
    "# read in data from part i\n",
    "cities = pd.read_csv(\"../data/cities.csv\")\n",
    "\n",
    "# preview dataset\n",
    "cities.head()"
   ]
  },
  {
   "cell_type": "markdown",
   "metadata": {},
   "source": [
    "## Create Humidity Heatmap"
   ]
  },
  {
   "cell_type": "code",
   "execution_count": 3,
   "metadata": {},
   "outputs": [],
   "source": [
    "# store locations and humidities\n",
    "locations = cities[[\"Latitude\", \"Longitude\"]].astype(float)\n",
    "humidities = cities[\"Humidity\"].astype(float)"
   ]
  },
  {
   "cell_type": "code",
   "execution_count": 4,
   "metadata": {},
   "outputs": [
    {
     "data": {
      "application/vnd.jupyter.widget-view+json": {
       "model_id": "3f4ff6ebbc024795ad2ea2478536b8ed",
       "version_major": 2,
       "version_minor": 0
      },
      "text/plain": [
       "Figure(layout=FigureLayout(height='420px'))"
      ]
     },
     "metadata": {},
     "output_type": "display_data"
    }
   ],
   "source": [
    "# create figure zoomed in and centered at coordinates (0, 0)\n",
    "fig = gmaps.figure(zoom_level = 2, center = (0,0))\n",
    "\n",
    "# create heatmap layer\n",
    "heat_layer = gmaps.heatmap_layer(locations, \n",
    "                                 weights = humidities, \n",
    "                                 dissipating = False, \n",
    "                                 max_intensity = humidities.max(), \n",
    "                                 point_radius = 2)\n",
    "\n",
    "# apply heatmap layer to map\n",
    "fig.add_layer(heat_layer)\n",
    "\n",
    "# display figure\n",
    "fig"
   ]
  },
  {
   "cell_type": "markdown",
   "metadata": {},
   "source": [
    "## Find Ideal Weather Conditions\n",
    "* Temperature between 60 and 80 degrees Farenheit\n",
    "* Humidity less than or equal to 50%\n",
    "* Cloudiness less than or equal to 25%\n",
    "* Wind Speed less than or equal to 10 MPH"
   ]
  },
  {
   "cell_type": "code",
   "execution_count": 5,
   "metadata": {},
   "outputs": [
    {
     "name": "stderr",
     "output_type": "stream",
     "text": [
      "/Users/speculadora/opt/anaconda3/envs/PythonData/lib/python3.6/site-packages/ipykernel_launcher.py:17: SettingWithCopyWarning: \n",
      "A value is trying to be set on a copy of a slice from a DataFrame.\n",
      "Try using .loc[row_indexer,col_indexer] = value instead\n",
      "\n",
      "See the caveats in the documentation: http://pandas.pydata.org/pandas-docs/stable/user_guide/indexing.html#returning-a-view-versus-a-copy\n"
     ]
    }
   ],
   "source": [
    "# temperature between 60 and 80 degrees\n",
    "ideal_temp = (cities[\"Max Temp\"] >= 60) & (cities[\"Max Temp\"] <= 80)\n",
    "\n",
    "# humidity lower than 50%\n",
    "ideal_humid = cities[\"Humidity\"] <= 50\n",
    "\n",
    "# cloudiness lower than 25%\n",
    "ideal_cloud = cities[\"Cloudiness\"] <= 25\n",
    "\n",
    "# wind speed less than 10 mph\n",
    "ideal_wind = cities[\"Wind Speed\"] <= 10\n",
    "\n",
    "# filter cities on above conditions\n",
    "cities_ideal = cities.loc[ideal_temp & ideal_humid & ideal_cloud & ideal_wind]\n",
    "\n",
    "# add column to store name of nearest hotel\n",
    "cities_ideal[\"Nearest Hotel\"] = \"\""
   ]
  },
  {
   "cell_type": "markdown",
   "metadata": {},
   "source": [
    "## Perform API Calls"
   ]
  },
  {
   "cell_type": "code",
   "execution_count": 6,
   "metadata": {},
   "outputs": [
    {
     "name": "stdout",
     "output_type": "stream",
     "text": [
      "Retrieving results for Pokaran\n",
      "Closest hotel to Pokaran: HOTEL SRI SAI PALACE\n",
      "------------------------------------\n",
      "Retrieving results for Dwarka\n"
     ]
    },
    {
     "name": "stderr",
     "output_type": "stream",
     "text": [
      "/Users/speculadora/opt/anaconda3/envs/PythonData/lib/python3.6/site-packages/ipykernel_launcher.py:25: SettingWithCopyWarning: \n",
      "A value is trying to be set on a copy of a slice from a DataFrame\n",
      "\n",
      "See the caveats in the documentation: http://pandas.pydata.org/pandas-docs/stable/user_guide/indexing.html#returning-a-view-versus-a-copy\n",
      "/Users/speculadora/opt/anaconda3/envs/PythonData/lib/python3.6/site-packages/IPython/core/interactiveshell.py:3326: SettingWithCopyWarning: \n",
      "A value is trying to be set on a copy of a slice from a DataFrame\n",
      "\n",
      "See the caveats in the documentation: http://pandas.pydata.org/pandas-docs/stable/user_guide/indexing.html#returning-a-view-versus-a-copy\n",
      "  exec(code_obj, self.user_global_ns, self.user_ns)\n"
     ]
    },
    {
     "name": "stdout",
     "output_type": "stream",
     "text": [
      "Closest hotel to Dwarka: Hotel Shree Vallabh\n",
      "------------------------------------\n",
      "Retrieving results for Tura\n",
      "Closest hotel to Tura: Hotel RIKMAN Continental\n",
      "------------------------------------\n",
      "Retrieving results for Anupgarh\n",
      "Closest hotel to Anupgarh: SRK Hotel\n",
      "------------------------------------\n",
      "Retrieving results for Botro\n",
      "Closest hotel to Botro: Hotel Akpole\n",
      "------------------------------------\n",
      "Retrieving results for Opuwo\n",
      "Closest hotel to Opuwo: Ohakane Guesthouse\n",
      "------------------------------------\n"
     ]
    }
   ],
   "source": [
    "# build url\n",
    "base_url = \"https://maps.googleapis.com/maps/api/place/nearbysearch/json\"\n",
    "\n",
    "# loop through rows in cities_ideal and hit api for nearest hotel\n",
    "for index, row in cities_ideal.iterrows():\n",
    "    \n",
    "    # store city of current iteration\n",
    "    current_city = row.get(\"City\")\n",
    "    \n",
    "    # store query parameters\n",
    "    params = {\"location\": str(row.get(\"Latitude\")) + \",\" + str(row.get(\"Longitude\")),\n",
    "              \"rankby\": \"distance\",\n",
    "              \"type\": \"lodging\",\n",
    "              \"keyword\": \"hotel\",\n",
    "              \"key\": google_api_key}\n",
    "        \n",
    "    # assemble url and make api request\n",
    "    print(f\"Retrieving results for {current_city}\")\n",
    "    response = requests.get(base_url, params = params).json()\n",
    "    \n",
    "    # attempt to store data\n",
    "    try:\n",
    "        hotel = response[\"results\"][0][\"name\"]\n",
    "        print(f\"Closest hotel to {current_city}: {hotel}\")\n",
    "        cities_ideal[\"Nearest Hotel\"][index] = hotel\n",
    "    \n",
    "    # return a message if there is an error\n",
    "    except (KeyError, IndexError):\n",
    "        print(f\"Could not find a hotel within 5000m of {current_city}\")\n",
    "        \n",
    "    print(\"------------------------------------\")"
   ]
  },
  {
   "cell_type": "markdown",
   "metadata": {},
   "source": [
    "## Plot Hotels on Humidity Heatmap"
   ]
  },
  {
   "cell_type": "code",
   "execution_count": 7,
   "metadata": {},
   "outputs": [],
   "source": [
    "# create template for tooltip\n",
    "info_box_template = \"\"\"\n",
    "<dl>\n",
    "<dt>Hotel</dt><dd>{Nearest Hotel}</dd>\n",
    "<dt>City</dt><dd>{City}</dd>\n",
    "<dt>Country</dt><dd>{Country}</dd>\n",
    "</dl>\n",
    "\"\"\"\n",
    "\n",
    "# for each city, store relevant data in a dictionary, append the dictionary to a list\n",
    "city_info = []\n",
    "for index, row in cities_ideal.iterrows():\n",
    "    city_dict = {}\n",
    "    city_dict[\"Nearest Hotel\"] = row.get(\"Nearest Hotel\")\n",
    "    city_dict[\"City\"] = row.get(\"City\")\n",
    "    city_dict[\"Country\"] = row.get(\"Country\")\n",
    "    city_info.append(city_dict)\n",
    "    \n",
    "\n",
    "# list comprehension to format city information for tooltip\n",
    "city_info_boxes = [info_box_template.format(**city) for city in city_info]\n",
    "\n",
    "# store city locations\n",
    "city_locations = cities_ideal[[\"Latitude\", \"Longitude\"]]\n",
    "\n",
    "# create marker layer\n",
    "marker_layer = gmaps.marker_layer(city_locations, info_box_content = city_info_boxes)"
   ]
  },
  {
   "cell_type": "code",
   "execution_count": 8,
   "metadata": {},
   "outputs": [
    {
     "data": {
      "application/vnd.jupyter.widget-view+json": {
       "model_id": "cfe725f964714ff4bb98beb9cb92ea9d",
       "version_major": 2,
       "version_minor": 0
      },
      "text/plain": [
       "Figure(layout=FigureLayout(height='420px'))"
      ]
     },
     "metadata": {},
     "output_type": "display_data"
    }
   ],
   "source": [
    "# create a new map figure zoomed & centered at (0,0)\n",
    "fig = gmaps.figure(zoom_level = 2, center = (0,0))\n",
    "\n",
    "# add heatmap and marker layers\n",
    "fig.add_layer(heat_layer)\n",
    "fig.add_layer(marker_layer)\n",
    "\n",
    "# display figure\n",
    "fig"
   ]
  }
 ],
 "metadata": {
  "kernelspec": {
   "display_name": "Python [conda env:PythonData] *",
   "language": "python",
   "name": "conda-env-PythonData-py"
  },
  "language_info": {
   "codemirror_mode": {
    "name": "ipython",
    "version": 3
   },
   "file_extension": ".py",
   "mimetype": "text/x-python",
   "name": "python",
   "nbconvert_exporter": "python",
   "pygments_lexer": "ipython3",
   "version": "3.6.9"
  }
 },
 "nbformat": 4,
 "nbformat_minor": 2
}
